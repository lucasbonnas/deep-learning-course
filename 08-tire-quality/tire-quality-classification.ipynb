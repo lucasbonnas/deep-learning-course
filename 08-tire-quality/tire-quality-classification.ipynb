{
 "cells": [
  {
   "cell_type": "markdown",
   "id": "6d517f66",
   "metadata": {},
   "source": [
    "# Tire Quality Classification\n",
    "\n",
    "**Over time, rubber deteriorates - can we detect this by a simple image?**\n",
    "\n",
    "- Objective: Develop a model to help predict the quality of car tires.\n",
    "- Dataset: 1854 images available."
   ]
  },
  {
   "cell_type": "markdown",
   "id": "584387d7",
   "metadata": {},
   "source": [
    "### Transfer Learning\n",
    "\n",
    "- A machine learning technique where a model trained on one task is reused or adapted for a new, related task.\n",
    "- Reduce training time and computational ressources.\n",
    "- Achieves better perfomances, especially when data is limited in the new task.\n",
    "\n",
    "**How it works?**\n",
    "\n",
    "- We start with a pre-trained model (tipically trained on a large dataset).\n",
    "- We then adjust the model to optimize it for the new task.\n",
    "\n",
    "**The model: ResNet**\n",
    "\n",
    "- Residual Network is a deep neural network architecture.\n",
    "- Trained on the ImageNet dataset.\n",
    "- **Key Concept**: Allow layers to \"skip\" connections, helping compating the vanishing gradient problem, enabling deeper networks."
   ]
  },
  {
   "cell_type": "code",
   "execution_count": 1,
   "id": "8286de9b",
   "metadata": {},
   "outputs": [],
   "source": [
    "import torch\n",
    "from torch import nn"
   ]
  },
  {
   "cell_type": "code",
   "execution_count": 2,
   "id": "67f6e26b",
   "metadata": {},
   "outputs": [],
   "source": [
    "if torch.cuda.is_available:\n",
    "    device = torch.device(\"cuda\")"
   ]
  },
  {
   "cell_type": "code",
   "execution_count": null,
   "id": "9ea0cfea",
   "metadata": {},
   "outputs": [
    {
     "data": {
      "text/plain": [
       "False"
      ]
     },
     "execution_count": 7,
     "metadata": {},
     "output_type": "execute_result"
    }
   ],
   "source": []
  }
 ],
 "metadata": {
  "kernelspec": {
   "display_name": ".venv",
   "language": "python",
   "name": "python3"
  },
  "language_info": {
   "codemirror_mode": {
    "name": "ipython",
    "version": 3
   },
   "file_extension": ".py",
   "mimetype": "text/x-python",
   "name": "python",
   "nbconvert_exporter": "python",
   "pygments_lexer": "ipython3",
   "version": "3.12.8"
  }
 },
 "nbformat": 4,
 "nbformat_minor": 5
}
