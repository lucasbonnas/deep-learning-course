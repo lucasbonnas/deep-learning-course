{
 "cells": [
  {
   "cell_type": "markdown",
   "id": "6d517f66",
   "metadata": {},
   "source": [
    "# Tire Quality Classification\n",
    "\n",
    "**Over time, rubber deteriorates - can we detect this by a simple image?**\n",
    "\n",
    "- Objective: Develop a model to help predict the quality of car tires.\n",
    "- Dataset: 1854 images available."
   ]
  },
  {
   "cell_type": "markdown",
   "id": "584387d7",
   "metadata": {},
   "source": [
    "### Transfer Learning\n",
    "\n",
    "- A machine learning technique where a model trained on one task is reused or adapted for a new, related task.\n",
    "- Reduce training time and computational ressources.\n",
    "- Achieves better perfomances, especially when data is limited in the new task.\n",
    "\n",
    "**How it works?**\n",
    "\n",
    "- We start with a pre-trained model (tipically trained on a large dataset).\n",
    "- We then adjust the model to optimize it for the new task.\n",
    "\n",
    "**The model: ResNet**\n",
    "\n",
    "- Residual Network is a deep neural network architecture.\n",
    "- Trained on the ImageNet dataset.\n",
    "- **Key Concept**: Allow layers to \"skip\" connections, helping compating the vanishing gradient problem, enabling deeper networks."
   ]
  },
  {
   "cell_type": "code",
   "execution_count": 1,
   "id": "8286de9b",
   "metadata": {},
   "outputs": [],
   "source": [
    "import torch\n",
    "import torchvision\n",
    "\n",
    "from torch import nn\n",
    "from torchvision import transforms"
   ]
  },
  {
   "cell_type": "code",
   "execution_count": 2,
   "id": "97234f55",
   "metadata": {},
   "outputs": [],
   "source": [
    "if torch.cuda.is_available():\n",
    "    device = torch.device(\"cuda\")"
   ]
  },
  {
   "cell_type": "code",
   "execution_count": 3,
   "id": "aad340b5",
   "metadata": {},
   "outputs": [],
   "source": [
    "# Pre-processing data\n",
    "preprocess = transforms.Compose([\n",
    "    transforms.Resize(256),\n",
    "    transforms.CenterCrop(224),\n",
    "    transforms.ToTensor(),\n",
    "    transforms.Normalize(mean=[0.485, 0.456, 0.406], std=[0.229, 0.224, 0.225]),\n",
    "])"
   ]
  },
  {
   "cell_type": "code",
   "execution_count": 4,
   "id": "cfcc95ff",
   "metadata": {},
   "outputs": [],
   "source": [
    "# Defining dataset\n",
    "dataset = torchvision.datasets.ImageFolder(\n",
    "    root='./images',\n",
    "    transform=preprocess    \n",
    ")"
   ]
  },
  {
   "cell_type": "code",
   "execution_count": 5,
   "id": "9d201c4f",
   "metadata": {},
   "outputs": [
    {
     "name": "stdout",
     "output_type": "stream",
     "text": [
      "1856\n",
      "(tensor([[[ 0.0056, -0.0116, -0.0629,  ..., -0.0458, -0.0801, -0.2342],\n",
      "         [-0.0287, -0.0458, -0.0458,  ..., -0.1143, -0.1657, -0.3541],\n",
      "         [-0.0116, -0.0287, -0.0629,  ..., -0.1657, -0.1828, -0.3198],\n",
      "         ...,\n",
      "         [-0.6794, -1.0048, -0.9705,  ..., -0.6109, -0.6281, -0.6109],\n",
      "         [-0.7822, -1.0562, -0.8849,  ..., -0.5938, -0.6794, -0.6452],\n",
      "         [-0.8164, -1.0733, -0.7822,  ..., -0.6281, -0.6109, -0.6109]],\n",
      "\n",
      "        [[ 0.0826,  0.0651,  0.0126,  ..., -0.1099, -0.1275, -0.2675],\n",
      "         [ 0.0476,  0.0301,  0.0301,  ..., -0.1625, -0.2150, -0.3901],\n",
      "         [ 0.0651,  0.0476,  0.0126,  ..., -0.2150, -0.2325, -0.3725],\n",
      "         ...,\n",
      "         [-0.7052, -1.0378, -1.0028,  ..., -0.7402, -0.7752, -0.7752],\n",
      "         [-0.8102, -1.0903, -0.9153,  ..., -0.7402, -0.8277, -0.7927],\n",
      "         [-0.8452, -1.1078, -0.8102,  ..., -0.7752, -0.7577, -0.7577]],\n",
      "\n",
      "        [[ 0.2173,  0.1999,  0.1476,  ...,  0.0953,  0.0779, -0.0615],\n",
      "         [ 0.1825,  0.1651,  0.1651,  ...,  0.0431, -0.0092, -0.1835],\n",
      "         [ 0.1999,  0.1825,  0.1476,  ..., -0.0092, -0.0092, -0.1487],\n",
      "         ...,\n",
      "         [-0.5147, -0.8458, -0.8110,  ..., -0.4624, -0.4973, -0.4973],\n",
      "         [-0.6367, -0.9156, -0.7413,  ..., -0.4624, -0.5495, -0.5147],\n",
      "         [-0.6541, -0.9330, -0.6367,  ..., -0.4973, -0.4798, -0.4798]]]), 0)\n",
      "{'defective': 0, 'good': 1}\n"
     ]
    }
   ],
   "source": [
    "print(len(dataset))\n",
    "print(dataset[0])\n",
    "print(dataset.class_to_idx)"
   ]
  },
  {
   "cell_type": "code",
   "execution_count": 6,
   "id": "8c5983f4",
   "metadata": {},
   "outputs": [],
   "source": [
    "from torch.utils.data import random_split\n",
    "\n",
    "# Split train (0.8) and test (0.2) dataset\n",
    "train_dataset, test_dataset = random_split(dataset, [0.8, 0.2])"
   ]
  },
  {
   "cell_type": "code",
   "execution_count": 7,
   "id": "19a28116",
   "metadata": {},
   "outputs": [],
   "source": [
    "from torch.utils.data import DataLoader\n",
    "\n",
    "# Converting to dataloader to divide dataset into batches\n",
    "train_dataloader = DataLoader(train_dataset, batch_size=32, shuffle=True)\n",
    "test_dataloader = DataLoader(test_dataset, batch_size=32, shuffle=True)"
   ]
  },
  {
   "cell_type": "code",
   "execution_count": 8,
   "id": "5881b7bf",
   "metadata": {},
   "outputs": [
    {
     "name": "stdout",
     "output_type": "stream",
     "text": [
      "torch.Size([32, 3, 224, 224])\n",
      "torch.Size([32])\n"
     ]
    }
   ],
   "source": [
    "# Checking format\n",
    "for X, y in train_dataloader:\n",
    "    print(X.shape)\n",
    "    print(y.shape)\n",
    "    break"
   ]
  },
  {
   "cell_type": "code",
   "execution_count": 9,
   "id": "b7aca972",
   "metadata": {},
   "outputs": [],
   "source": [
    "# Importing the weights for the trained model resnet50 (50 layers)\n",
    "resnet50_model = torchvision.models.resnet50(weights=torchvision.models.ResNet50_Weights.IMAGENET1K_V1)\n",
    "\n",
    "# Excluding the last layer - (fc): Linear(in_features=2048, out_features=1000, bias=True)\n",
    "resnet50_model.fc = nn.Identity()\n",
    "\n",
    "# Putting the resnet50 model in evaluation mode to avoid training keeping the default weights\n",
    "for param in resnet50_model.parameters():\n",
    "    param.requires_grad = False\n",
    "resnet50_model.eval();\n",
    "\n",
    "# Putting the resnet50 model to device\n",
    "resnet50_model = resnet50_model.to(device)"
   ]
  },
  {
   "cell_type": "code",
   "execution_count": 10,
   "id": "d091c9df",
   "metadata": {},
   "outputs": [
    {
     "name": "stdout",
     "output_type": "stream",
     "text": [
      "torch.Size([32, 2048])\n"
     ]
    }
   ],
   "source": [
    "# Examinating the output without the last layer\n",
    "for X, y in train_dataloader:\n",
    "    X = X.to(device)\n",
    "    \n",
    "    y_pred = resnet50_model(X)\n",
    "    print(y_pred.shape)\n",
    "    break"
   ]
  },
  {
   "cell_type": "code",
   "execution_count": 11,
   "id": "38218cee",
   "metadata": {},
   "outputs": [],
   "source": [
    "# Creating a fully-connected model\n",
    "fc_model = nn.Sequential(\n",
    "    nn.Linear(2048, 1024),\n",
    "    nn.ReLU(),\n",
    "    nn.Linear(1024, 1)\n",
    ")\n",
    "\n",
    "fc_model = fc_model.to(device)\n",
    "\n",
    "# Combining the two models\n",
    "model = nn.Sequential(\n",
    "    resnet50_model,\n",
    "    fc_model\n",
    ")\n",
    "\n",
    "model = model.to(device)"
   ]
  },
  {
   "cell_type": "code",
   "execution_count": 12,
   "id": "d09b3afb",
   "metadata": {},
   "outputs": [
    {
     "name": "stdout",
     "output_type": "stream",
     "text": [
      "torch.Size([32, 1])\n"
     ]
    }
   ],
   "source": [
    "# Examinating the output with the connected model\n",
    "for X, y in train_dataloader:\n",
    "    X = X.to(device)\n",
    "\n",
    "    y_pred = model(X)\n",
    "    print(y_pred.shape)\n",
    "    break"
   ]
  },
  {
   "cell_type": "code",
   "execution_count": 13,
   "id": "70a135e2",
   "metadata": {},
   "outputs": [],
   "source": [
    "# Defining the optimizer (passing only the fc_model)\n",
    "optimizer = torch.optim.Adam(fc_model.parameters(), lr=0.001)\n",
    "\n",
    "# Defining the loss function\n",
    "criterion = nn.BCEWithLogitsLoss()"
   ]
  },
  {
   "cell_type": "code",
   "execution_count": 14,
   "id": "968a2542",
   "metadata": {},
   "outputs": [
    {
     "name": "stdout",
     "output_type": "stream",
     "text": [
      "Loss: 16.515285529196262\n",
      "Loss: 8.714934378862381\n",
      "Loss: 7.979290883988142\n",
      "Loss: 6.776929043233395\n",
      "Loss: 5.136878674849868\n",
      "Loss: 4.745927814394236\n",
      "Loss: 4.040722658857703\n",
      "Loss: 3.1614678150508553\n",
      "Loss: 3.200970712234266\n",
      "Loss: 2.127706841332838\n"
     ]
    }
   ],
   "source": [
    "# Training loop\n",
    "train_losses = []\n",
    "test_losses = []\n",
    "\n",
    "for epoch in range(10):\n",
    "    model.train()\n",
    "    resnet50_model.eval() # Only training the model_fc\n",
    "\n",
    "    train_loss_sum = 0\n",
    "    for X, y in train_dataloader:\n",
    "        X = X.to(device)\n",
    "        y = y.to(device).type(torch.float32).reshape(-1, 1)\n",
    "\n",
    "        optimizer.zero_grad()\n",
    "        y_pred = model(X)\n",
    "        loss = criterion(y_pred, y)\n",
    "        loss.backward()\n",
    "        optimizer.step()\n",
    "\n",
    "        train_loss_sum += loss.item()\n",
    "    train_losses.append(train_loss_sum / len(train_dataloader))\n",
    "\n",
    "    print(f\"Loss: {train_loss_sum}\")\n",
    "\n",
    "    model.eval()\n",
    "    test_loss_sum = 0\n",
    "    with torch.no_grad():\n",
    "        for X, y in test_dataloader:\n",
    "            X = X.to(device)\n",
    "            y = y.to(device).type(torch.float32).reshape(-1, 1)\n",
    "\n",
    "            y_pred = model(X)\n",
    "            loss = criterion(y_pred, y)\n",
    "\n",
    "            test_loss_sum += loss.item()\n",
    "        test_losses.append(test_loss_sum / len(test_dataloader))"
   ]
  },
  {
   "cell_type": "code",
   "execution_count": 15,
   "id": "a778742c",
   "metadata": {},
   "outputs": [
    {
     "data": {
      "image/png": "[encoded data removed]",
      "text/plain": [
       "<Figure size 640x480 with 1 Axes>"
      ]
     },
     "metadata": {},
     "output_type": "display_data"
    }
   ],
   "source": [
    "import matplotlib.pyplot as plt\n",
    "\n",
    "# Examinating train and test loss\n",
    "\n",
    "plt.figure()\n",
    "plt.plot(train_losses, label=\"Train loss\")\n",
    "plt.plot(test_losses, label=\"Test loss\")\n",
    "plt.legend()\n",
    "plt.show()"
   ]
  },
  {
   "cell_type": "code",
   "execution_count": 16,
   "id": "386f52e9",
   "metadata": {},
   "outputs": [
    {
     "name": "stdout",
     "output_type": "stream",
     "text": [
      "Accuracy: 92.45 %\n"
     ]
    }
   ],
   "source": [
    "# Evaluating the model\n",
    "\n",
    "model.eval()\n",
    "with torch.no_grad():\n",
    "    total = 0\n",
    "    accurate = 0\n",
    "\n",
    "    for X, y in test_dataloader:\n",
    "        X = X.to(device)\n",
    "        y = y.to(device).type(torch.float32).reshape(-1, 1)\n",
    "        \n",
    "        # Apply the model\n",
    "        y_pred = model(X)\n",
    "\n",
    "        # Convert to 0 or 1\n",
    "        predictions = (torch.sigmoid(y_pred) > 0.5).type(torch.float32)\n",
    "        \n",
    "        # Count corrects\n",
    "        correct = (predictions == y).sum().item()\n",
    "        accurate += correct\n",
    "        total += y.size(0)\n",
    "\n",
    "    accuracy = 100 * accurate / total\n",
    "    print(f\"Accuracy: {accuracy:.2f} %\")"
   ]
  }
 ],
 "metadata": {
  "kernelspec": {
   "display_name": ".venv",
   "language": "python",
   "name": "python3"
  },
  "language_info": {
   "codemirror_mode": {
    "name": "ipython",
    "version": 3
   },
   "file_extension": ".py",
   "mimetype": "text/x-python",
   "name": "python",
   "nbconvert_exporter": "python",
   "pygments_lexer": "ipython3",
   "version": "3.12.8"
  }
 },
 "nbformat": 4,
 "nbformat_minor": 5
}
