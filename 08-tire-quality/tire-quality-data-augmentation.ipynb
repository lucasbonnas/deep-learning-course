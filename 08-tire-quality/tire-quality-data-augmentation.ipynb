{
 "cells": [
  {
   "cell_type": "code",
   "execution_count": 1,
   "id": "73d2b952",
   "metadata": {},
   "outputs": [],
   "source": [
    "import torch\n",
    "import torchvision\n",
    "\n",
    "from torch import nn \n",
    "from torchvision import transforms\n",
    "from tqdm import tqdm"
   ]
  },
  {
   "cell_type": "code",
   "execution_count": 2,
   "id": "8dc39724",
   "metadata": {},
   "outputs": [],
   "source": [
    "if torch.cuda.is_available():\n",
    "    device = torch.device(\"cuda\")"
   ]
  },
  {
   "cell_type": "code",
   "execution_count": 3,
   "id": "659da922",
   "metadata": {},
   "outputs": [],
   "source": [
    "# Pre-processing data\n",
    "preprocess = transforms.Compose([\n",
    "    transforms.Resize(512),\n",
    "    transforms.RandomRotation(10),\n",
    "    transforms.RandomVerticalFlip(),\n",
    "    transforms.RandomHorizontalFlip(),\n",
    "    transforms.ColorJitter(brightness=0.2, contrast=0.2, saturation=0.2, hue=0.2),\n",
    "\n",
    "    transforms.Resize(256),\n",
    "    transforms.CenterCrop(224),\n",
    "    transforms.ToTensor(),\n",
    "    transforms.Normalize(mean=[0.485, 0.456, 0.406], std=[0.229, 0.224, 0.225]),\n",
    "])"
   ]
  },
  {
   "cell_type": "code",
   "execution_count": 4,
   "id": "9e6f79be",
   "metadata": {},
   "outputs": [],
   "source": [
    "from torch.utils.data import random_split, DataLoader\n",
    "\n",
    "# Defining dataset\n",
    "dataset = torchvision.datasets.ImageFolder(\n",
    "    root='./images',\n",
    "    transform=preprocess    \n",
    ")\n",
    "\n",
    "# Split train (0.8) and test (0.2) dataset\n",
    "train_dataset, test_dataset = random_split(dataset, [0.8, 0.2])\n",
    "\n",
    "# Converting to dataloader to divide dataset into batches\n",
    "train_dataloader = DataLoader(train_dataset, batch_size=32, shuffle=True)\n",
    "test_dataloader = DataLoader(test_dataset, batch_size=32, shuffle=True)"
   ]
  },
  {
   "cell_type": "code",
   "execution_count": 5,
   "id": "127c8d8b",
   "metadata": {},
   "outputs": [],
   "source": [
    "# Importing the weights for the trained model resnet50 (50 layers)\n",
    "resnet50_model = torchvision.models.resnet50(weights=torchvision.models.ResNet50_Weights.IMAGENET1K_V1)\n",
    "\n",
    "# Excluding the last layer - (fc): Linear(in_features=2048, out_features=1000, bias=True)\n",
    "resnet50_model.fc = nn.Identity()\n",
    "\n",
    "# Putting the resnet50 model in evaluation mode to avoid training keeping the default weights\n",
    "for param in resnet50_model.parameters():\n",
    "    param.requires_grad = False\n",
    "resnet50_model.eval();\n",
    "\n",
    "# Putting the resnet50 model to device\n",
    "resnet50_model = resnet50_model.to(device)"
   ]
  },
  {
   "cell_type": "code",
   "execution_count": 6,
   "id": "7e39d102",
   "metadata": {},
   "outputs": [],
   "source": [
    "# Creating a fully-connected model\n",
    "fc_model = nn.Sequential(\n",
    "    nn.Linear(2048, 1024),\n",
    "    nn.ReLU(),\n",
    "    nn.Linear(1024, 1)\n",
    ")\n",
    "\n",
    "fc_model = fc_model.to(device)\n",
    "\n",
    "# Combining the two models\n",
    "model = nn.Sequential(\n",
    "    resnet50_model,\n",
    "    fc_model\n",
    ")\n",
    "\n",
    "model = model.to(device)\n",
    "\n",
    "# Defining the optimizer (passing only the fc_model)\n",
    "optimizer = torch.optim.Adam(fc_model.parameters(), lr=0.001)\n",
    "\n",
    "# Defining the loss function\n",
    "criterion = nn.BCEWithLogitsLoss()"
   ]
  },
  {
   "cell_type": "code",
   "execution_count": 7,
   "id": "2278de60",
   "metadata": {},
   "outputs": [
    {
     "name": "stderr",
     "output_type": "stream",
     "text": [
      "100%|██████████| 47/47 [01:48<00:00,  2.31s/it]\n"
     ]
    },
    {
     "name": "stdout",
     "output_type": "stream",
     "text": [
      "Epoch: 0, Loss: 16.772698935121298\n"
     ]
    },
    {
     "name": "stderr",
     "output_type": "stream",
     "text": [
      "100%|██████████| 12/12 [00:28<00:00,  2.35s/it]\n",
      "100%|██████████| 47/47 [01:47<00:00,  2.29s/it]\n"
     ]
    },
    {
     "name": "stdout",
     "output_type": "stream",
     "text": [
      "Epoch: 1, Loss: 10.194315534085035\n"
     ]
    },
    {
     "name": "stderr",
     "output_type": "stream",
     "text": [
      "100%|██████████| 12/12 [00:27<00:00,  2.28s/it]\n",
      "100%|██████████| 47/47 [01:47<00:00,  2.29s/it]\n"
     ]
    },
    {
     "name": "stdout",
     "output_type": "stream",
     "text": [
      "Epoch: 2, Loss: 9.37797199189663\n"
     ]
    },
    {
     "name": "stderr",
     "output_type": "stream",
     "text": [
      "100%|██████████| 12/12 [00:27<00:00,  2.26s/it]\n",
      "100%|██████████| 47/47 [01:47<00:00,  2.28s/it]\n"
     ]
    },
    {
     "name": "stdout",
     "output_type": "stream",
     "text": [
      "Epoch: 3, Loss: 8.91419018059969\n"
     ]
    },
    {
     "name": "stderr",
     "output_type": "stream",
     "text": [
      "100%|██████████| 12/12 [00:27<00:00,  2.31s/it]\n",
      "100%|██████████| 47/47 [01:47<00:00,  2.28s/it]\n"
     ]
    },
    {
     "name": "stdout",
     "output_type": "stream",
     "text": [
      "Epoch: 4, Loss: 8.730372112244368\n"
     ]
    },
    {
     "name": "stderr",
     "output_type": "stream",
     "text": [
      "100%|██████████| 12/12 [00:27<00:00,  2.26s/it]\n",
      "100%|██████████| 47/47 [01:46<00:00,  2.27s/it]\n"
     ]
    },
    {
     "name": "stdout",
     "output_type": "stream",
     "text": [
      "Epoch: 5, Loss: 7.984572421759367\n"
     ]
    },
    {
     "name": "stderr",
     "output_type": "stream",
     "text": [
      "100%|██████████| 12/12 [00:26<00:00,  2.23s/it]\n",
      "100%|██████████| 47/47 [01:45<00:00,  2.25s/it]\n"
     ]
    },
    {
     "name": "stdout",
     "output_type": "stream",
     "text": [
      "Epoch: 6, Loss: 6.5952341090887785\n"
     ]
    },
    {
     "name": "stderr",
     "output_type": "stream",
     "text": [
      "100%|██████████| 12/12 [00:26<00:00,  2.23s/it]\n",
      "100%|██████████| 47/47 [01:46<00:00,  2.26s/it]\n"
     ]
    },
    {
     "name": "stdout",
     "output_type": "stream",
     "text": [
      "Epoch: 7, Loss: 5.715567518025637\n"
     ]
    },
    {
     "name": "stderr",
     "output_type": "stream",
     "text": [
      "100%|██████████| 12/12 [00:27<00:00,  2.26s/it]\n",
      "100%|██████████| 47/47 [01:45<00:00,  2.24s/it]\n"
     ]
    },
    {
     "name": "stdout",
     "output_type": "stream",
     "text": [
      "Epoch: 8, Loss: 7.624543555080891\n"
     ]
    },
    {
     "name": "stderr",
     "output_type": "stream",
     "text": [
      "100%|██████████| 12/12 [00:26<00:00,  2.24s/it]\n",
      "100%|██████████| 47/47 [01:46<00:00,  2.26s/it]\n"
     ]
    },
    {
     "name": "stdout",
     "output_type": "stream",
     "text": [
      "Epoch: 9, Loss: 7.056338215246797\n"
     ]
    },
    {
     "name": "stderr",
     "output_type": "stream",
     "text": [
      "100%|██████████| 12/12 [00:27<00:00,  2.25s/it]\n"
     ]
    }
   ],
   "source": [
    "# Training loop\n",
    "train_losses = []\n",
    "test_losses = []\n",
    "\n",
    "for epoch in range(10):\n",
    "    model.train()\n",
    "    resnet50_model.eval() # Only training the model_fc\n",
    "\n",
    "    train_loss_sum = 0\n",
    "    for X, y in tqdm(train_dataloader):\n",
    "        X = X.to(device)\n",
    "        y = y.to(device).type(torch.float32).reshape(-1, 1)\n",
    "\n",
    "        optimizer.zero_grad()\n",
    "        y_pred = model(X)\n",
    "        loss = criterion(y_pred, y)\n",
    "        loss.backward()\n",
    "        optimizer.step()\n",
    "\n",
    "        train_loss_sum += loss.item()\n",
    "    train_losses.append(train_loss_sum / len(train_dataloader))\n",
    "\n",
    "    print(f\"Epoch: {epoch}, Loss: {train_loss_sum}\")\n",
    "\n",
    "    # Saving models for each iteration\n",
    "    torch.save(fc_model.state_dict(), f\"models/fc_model_{epoch}.pth\")\n",
    "\n",
    "    model.eval()\n",
    "    test_loss_sum = 0\n",
    "    with torch.no_grad():\n",
    "        for X, y in tqdm(test_dataloader):\n",
    "            X = X.to(device)\n",
    "            y = y.to(device).type(torch.float32).reshape(-1, 1)\n",
    "\n",
    "            y_pred = model(X)\n",
    "            loss = criterion(y_pred, y)\n",
    "\n",
    "            test_loss_sum += loss.item()\n",
    "        test_losses.append(test_loss_sum / len(test_dataloader))"
   ]
  },
  {
   "cell_type": "code",
   "execution_count": 8,
   "id": "f1f0ba52",
   "metadata": {},
   "outputs": [
    {
     "data": {
      "image/png": "[encoded data removed]",
      "text/plain": [
       "<Figure size 640x480 with 1 Axes>"
      ]
     },
     "metadata": {},
     "output_type": "display_data"
    }
   ],
   "source": [
    "import matplotlib.pyplot as plt\n",
    "\n",
    "# Examinating train and test loss\n",
    "\n",
    "plt.figure()\n",
    "plt.plot(train_losses, label=\"Train loss\")\n",
    "plt.plot(test_losses, label=\"Test loss\")\n",
    "plt.legend()\n",
    "plt.show()"
   ]
  },
  {
   "cell_type": "code",
   "execution_count": 9,
   "id": "cb5d5e05",
   "metadata": {},
   "outputs": [
    {
     "name": "stdout",
     "output_type": "stream",
     "text": [
      "Accuracy: 90.84 %\n"
     ]
    }
   ],
   "source": [
    "# Evaluating the model\n",
    "\n",
    "model.eval()\n",
    "with torch.no_grad():\n",
    "    total = 0\n",
    "    accurate = 0\n",
    "\n",
    "    for X, y in test_dataloader:\n",
    "        X = X.to(device)\n",
    "        y = y.to(device).type(torch.float32).reshape(-1, 1)\n",
    "        \n",
    "        # Apply the model\n",
    "        y_pred = model(X)\n",
    "\n",
    "        # Convert to 0 or 1\n",
    "        predictions = (torch.sigmoid(y_pred) > 0.5).type(torch.float32)\n",
    "        \n",
    "        # Count corrects\n",
    "        correct = (predictions == y).sum().item()\n",
    "        accurate += correct\n",
    "        total += y.size(0)\n",
    "\n",
    "    accuracy = 100 * accurate / total\n",
    "    print(f\"Accuracy: {accuracy:.2f} %\")"
   ]
  }
 ],
 "metadata": {
  "kernelspec": {
   "display_name": ".venv",
   "language": "python",
   "name": "python3"
  },
  "language_info": {
   "codemirror_mode": {
    "name": "ipython",
    "version": 3
   },
   "file_extension": ".py",
   "mimetype": "text/x-python",
   "name": "python",
   "nbconvert_exporter": "python",
   "pygments_lexer": "ipython3",
   "version": "3.12.8"
  }
 },
 "nbformat": 4,
 "nbformat_minor": 5
}
