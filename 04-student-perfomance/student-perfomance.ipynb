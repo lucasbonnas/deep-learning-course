{
 "cells": [
  {
   "cell_type": "markdown",
   "id": "509bf3f8",
   "metadata": {},
   "source": [
    "## Student Pass/Fail Prediction\n",
    "\n",
    "In this notebook, we build a simple binary classifier to predict whether a student will **pass (1)** or **fail (0)** using a neurol network with one hidden layer. \n",
    "The prediction is based on two features:  \n",
    "- **Study Hours** (time dedicated to preparation)  \n",
    "- **Previous Exam Score** (performance in the last exam)  \n",
    "\n",
    "This task is a **classification problem**, and the goal is to learn how these features relate to the outcome.  "
   ]
  },
  {
   "cell_type": "code",
   "execution_count": 94,
   "id": "f5bfdd20",
   "metadata": {},
   "outputs": [],
   "source": [
    "# Import libraries\n",
    "import pandas as pd\n",
    "import torch\n",
    "from torch import nn"
   ]
  },
  {
   "cell_type": "code",
   "execution_count": 95,
   "id": "702a8bde",
   "metadata": {},
   "outputs": [
    {
     "data": {
      "text/html": [
       "<div>\n",
       "<style scoped>\n",
       "    .dataframe tbody tr th:only-of-type {\n",
       "        vertical-align: middle;\n",
       "    }\n",
       "\n",
       "    .dataframe tbody tr th {\n",
       "        vertical-align: top;\n",
       "    }\n",
       "\n",
       "    .dataframe thead th {\n",
       "        text-align: right;\n",
       "    }\n",
       "</style>\n",
       "<table border=\"1\" class=\"dataframe\">\n",
       "  <thead>\n",
       "    <tr style=\"text-align: right;\">\n",
       "      <th></th>\n",
       "      <th>Study Hours</th>\n",
       "      <th>Previous Exam Score</th>\n",
       "      <th>Pass/Fail</th>\n",
       "    </tr>\n",
       "  </thead>\n",
       "  <tbody>\n",
       "    <tr>\n",
       "      <th>0</th>\n",
       "      <td>4.370861</td>\n",
       "      <td>81.889703</td>\n",
       "      <td>0</td>\n",
       "    </tr>\n",
       "    <tr>\n",
       "      <th>1</th>\n",
       "      <td>9.556429</td>\n",
       "      <td>72.165782</td>\n",
       "      <td>1</td>\n",
       "    </tr>\n",
       "    <tr>\n",
       "      <th>2</th>\n",
       "      <td>7.587945</td>\n",
       "      <td>58.571657</td>\n",
       "      <td>0</td>\n",
       "    </tr>\n",
       "    <tr>\n",
       "      <th>3</th>\n",
       "      <td>6.387926</td>\n",
       "      <td>88.827701</td>\n",
       "      <td>1</td>\n",
       "    </tr>\n",
       "    <tr>\n",
       "      <th>4</th>\n",
       "      <td>2.404168</td>\n",
       "      <td>81.083870</td>\n",
       "      <td>0</td>\n",
       "    </tr>\n",
       "    <tr>\n",
       "      <th>...</th>\n",
       "      <td>...</td>\n",
       "      <td>...</td>\n",
       "      <td>...</td>\n",
       "    </tr>\n",
       "    <tr>\n",
       "      <th>495</th>\n",
       "      <td>4.180170</td>\n",
       "      <td>45.494924</td>\n",
       "      <td>0</td>\n",
       "    </tr>\n",
       "    <tr>\n",
       "      <th>496</th>\n",
       "      <td>6.252905</td>\n",
       "      <td>95.038815</td>\n",
       "      <td>1</td>\n",
       "    </tr>\n",
       "    <tr>\n",
       "      <th>497</th>\n",
       "      <td>1.699612</td>\n",
       "      <td>48.209118</td>\n",
       "      <td>0</td>\n",
       "    </tr>\n",
       "    <tr>\n",
       "      <th>498</th>\n",
       "      <td>9.769553</td>\n",
       "      <td>97.014241</td>\n",
       "      <td>1</td>\n",
       "    </tr>\n",
       "    <tr>\n",
       "      <th>499</th>\n",
       "      <td>9.875897</td>\n",
       "      <td>66.760346</td>\n",
       "      <td>1</td>\n",
       "    </tr>\n",
       "  </tbody>\n",
       "</table>\n",
       "<p>500 rows × 3 columns</p>\n",
       "</div>"
      ],
      "text/plain": [
       "     Study Hours  Previous Exam Score  Pass/Fail\n",
       "0       4.370861            81.889703          0\n",
       "1       9.556429            72.165782          1\n",
       "2       7.587945            58.571657          0\n",
       "3       6.387926            88.827701          1\n",
       "4       2.404168            81.083870          0\n",
       "..           ...                  ...        ...\n",
       "495     4.180170            45.494924          0\n",
       "496     6.252905            95.038815          1\n",
       "497     1.699612            48.209118          0\n",
       "498     9.769553            97.014241          1\n",
       "499     9.875897            66.760346          1\n",
       "\n",
       "[500 rows x 3 columns]"
      ]
     },
     "execution_count": 95,
     "metadata": {},
     "output_type": "execute_result"
    }
   ],
   "source": [
    "# Read df\n",
    "df = pd.read_csv(\"./data/student_exam_data.csv\")\n",
    "\n",
    "df"
   ]
  },
  {
   "cell_type": "code",
   "execution_count": 96,
   "id": "8a4db95b",
   "metadata": {},
   "outputs": [],
   "source": [
    "# Define input (X)\n",
    "X = torch.tensor(df[[\"Study Hours\", \"Previous Exam Score\"]].values, dtype=torch.float32)"
   ]
  },
  {
   "cell_type": "code",
   "execution_count": 97,
   "id": "c1021298",
   "metadata": {},
   "outputs": [],
   "source": [
    "# Define output (y)\n",
    "y = torch.tensor(df[\"Pass/Fail\"], dtype=torch.float32).reshape(-1, 1)"
   ]
  },
  {
   "cell_type": "code",
   "execution_count": 98,
   "id": "e25e9571",
   "metadata": {},
   "outputs": [],
   "source": [
    "# Define model\n",
    "model = nn.Sequential(\n",
    "    nn.Linear(2, 10),\n",
    "    nn.ReLU(),\n",
    "    nn.Linear(10, 1)\n",
    ")\n",
    "\n",
    "# Define loss function\n",
    "criterion = nn.BCEWithLogitsLoss()\n",
    "\n",
    "# Define optimizer\n",
    "optimizer = torch.optim.Adam(model.parameters(), lr=0.05)"
   ]
  },
  {
   "cell_type": "code",
   "execution_count": 99,
   "id": "b64cbc0a",
   "metadata": {},
   "outputs": [],
   "source": [
    "from torch.utils.data import TensorDataset, DataLoader\n",
    "\n",
    "# Create dataset from tensor\n",
    "dataset = TensorDataset(X, y)\n",
    "\n",
    "# Divides dataset in batches\n",
    "dataloader = DataLoader(dataset, batch_size=32, shuffle=True)"
   ]
  },
  {
   "cell_type": "code",
   "execution_count": 100,
   "id": "d242263a",
   "metadata": {},
   "outputs": [
    {
     "name": "stdout",
     "output_type": "stream",
     "text": [
      "Loss: 28.17239820957184\n",
      "Loss: 0.9778385031968355\n",
      "Loss: 1.4370754826813936\n",
      "Loss: 0.6084625795483589\n",
      "Loss: 0.45090202847495675\n",
      "Loss: 0.3494054996408522\n",
      "Loss: 0.3218006163369864\n",
      "Loss: 0.7088543307036161\n",
      "Loss: 0.2643882459960878\n",
      "Loss: 0.7249264883866999\n"
     ]
    }
   ],
   "source": [
    "# Training loop\n",
    "epochs = 1000\n",
    "\n",
    "for epoch in range(epochs):\n",
    "    loss_sum = 0\n",
    "    for X_batch, y_batch in dataloader:\n",
    "        optimizer.zero_grad()             # Resetting the gradient\n",
    "        y_pred = model(X_batch)           # Calculating the model prediction\n",
    "        loss = criterion(y_pred, y_batch) # Calculating the error\n",
    "        loss.backward()                   # Calculates the gradients of the parameters with respect to the loss            \n",
    "        optimizer.step()                  # Update the model weights using the calculated gradients\n",
    "        \n",
    "        loss_sum += loss.item() \n",
    "    if epoch % 100 == 0:\n",
    "        print(f\"Loss: {loss_sum}\")        # Print loss"
   ]
  },
  {
   "cell_type": "code",
   "execution_count": 101,
   "id": "2f8bf4d6",
   "metadata": {},
   "outputs": [
    {
     "name": "stdout",
     "output_type": "stream",
     "text": [
      "Accuracy: 99.40 %\n"
     ]
    }
   ],
   "source": [
    "# Evaluate model\n",
    "model.eval()\n",
    "with torch.no_grad():\n",
    "    logits = model(X)\n",
    "    y_pred = nn.functional.sigmoid(logits) > 0.5\n",
    "    y_pred = y_pred.type(torch.float32)\n",
    "\n",
    "    accuracy = (y_pred == y).type(torch.float32).mean()\n",
    "    print(f\"Accuracy: {accuracy * 100:.2f} %\")"
   ]
  }
 ],
 "metadata": {
  "kernelspec": {
   "display_name": ".venv",
   "language": "python",
   "name": "python3"
  },
  "language_info": {
   "codemirror_mode": {
    "name": "ipython",
    "version": 3
   },
   "file_extension": ".py",
   "mimetype": "text/x-python",
   "name": "python",
   "nbconvert_exporter": "python",
   "pygments_lexer": "ipython3",
   "version": "3.12.8"
  }
 },
 "nbformat": 4,
 "nbformat_minor": 5
}
