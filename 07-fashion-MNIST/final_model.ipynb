{
 "cells": [
  {
   "cell_type": "code",
   "execution_count": 39,
   "id": "b7298bde",
   "metadata": {},
   "outputs": [],
   "source": [
    "import torch\n",
    "from torch import nn\n",
    "\n",
    "import torchvision.datasets as datasets\n",
    "from torchvision.transforms import ToTensor"
   ]
  },
  {
   "cell_type": "code",
   "execution_count": 40,
   "id": "f1b19bb9",
   "metadata": {},
   "outputs": [],
   "source": [
    "if torch.cuda.is_available():\n",
    "    device = torch.device(\"cuda\")"
   ]
  },
  {
   "cell_type": "code",
   "execution_count": 41,
   "id": "a731e6c5",
   "metadata": {},
   "outputs": [],
   "source": [
    "# Importing data\n",
    "mnist_train = datasets.FashionMNIST(root=\"./data\", download=True, train=True, transform=ToTensor())\n",
    "mnist_test = datasets.FashionMNIST(root=\"./data\", download=True, train=False, transform=ToTensor())"
   ]
  },
  {
   "cell_type": "code",
   "execution_count": 42,
   "id": "470d58f0",
   "metadata": {},
   "outputs": [],
   "source": [
    "from torch.utils.data import DataLoader\n",
    "\n",
    "# Converting to dataloader\n",
    "train_dataloader = DataLoader(mnist_train, batch_size=32, shuffle=True)\n",
    "test_dataloader = DataLoader(mnist_test, batch_size=32, shuffle=True)"
   ]
  },
  {
   "cell_type": "code",
   "execution_count": 43,
   "id": "c25bf754",
   "metadata": {},
   "outputs": [],
   "source": [
    "# Defining model\n",
    "model = nn.Sequential(\n",
    "    nn.Sequential(\n",
    "        nn.Conv2d(1, 32, kernel_size=(3, 3), padding=1, padding_mode=\"reflect\"), # Shape = 32, 28, 28\n",
    "        nn.MaxPool2d(kernel_size=2), # Shape = 32, 14, 14\n",
    "        nn.BatchNorm2d(32), # Normalizing data\n",
    "        nn.ReLU(), # Breaking linearity\n",
    "        nn.Dropout(0.1) # Dropout 10 % of connections\n",
    "    ),\n",
    "\n",
    "    nn.Sequential(\n",
    "        nn.Conv2d(32, 64, kernel_size=(3, 3), padding=1, padding_mode=\"reflect\"), # Shape = 64, 14, 14\n",
    "        nn.MaxPool2d(kernel_size=2), # Shape = 64, 7, 7\n",
    "        nn.BatchNorm2d(64), # Normalizing data\n",
    "        nn.ReLU(), # Breaking linearity\n",
    "        nn.Dropout(0.1) # Dropout 10 % of connections\n",
    "    ),\n",
    "\n",
    "    nn.Flatten(),\n",
    "\n",
    "    nn.Sequential(\n",
    "        nn.Linear(3136, 1000), # Shape = 64 * 7 * 7 = 3136\n",
    "        nn.BatchNorm1d(1000),\n",
    "        nn.ReLU(),\n",
    "        nn.Dropout(0.3), # Dropout 30 % of connections\n",
    "\n",
    "        nn.Linear(1000, 100),\n",
    "        nn.BatchNorm1d(100),\n",
    "        nn.ReLU(),\n",
    "        nn.Dropout(0.5), # Dropout 50 % of connections\n",
    "        nn.Linear(100, 10)\n",
    "    )\n",
    ").to(device)\n",
    "\n",
    "# Defining the loss function\n",
    "criterion = nn.CrossEntropyLoss()\n",
    "\n",
    "# Defining optimizer\n",
    "optimizer = torch.optim.Adam(model.parameters(), lr=0.001)"
   ]
  },
  {
   "cell_type": "code",
   "execution_count": 44,
   "id": "4716055f",
   "metadata": {},
   "outputs": [],
   "source": [
    "# Training loop\n",
    "train_losses = []\n",
    "test_losses = []\n",
    "\n",
    "for i in range(10):\n",
    "    model.train()\n",
    "    train_loss_sum = 0\n",
    "    for X, y in train_dataloader:\n",
    "        X = X.to(device)\n",
    "        y = nn.functional.one_hot(y, num_classes=10).type(torch.float32).to(device) # Implementing one hot encoding and placing on cuda\n",
    "\n",
    "        optimizer.zero_grad()\n",
    "        y_pred = model(X)\n",
    "        loss = criterion(y_pred, y)\n",
    "        loss.backward()\n",
    "        optimizer.step()\n",
    "\n",
    "        train_loss_sum += loss.item()\n",
    "    train_losses.append(train_loss_sum / len(train_dataloader))\n",
    "\n",
    "    model.eval()\n",
    "    test_loss_sum = 0\n",
    "    with torch.no_grad():\n",
    "        for X, y in test_dataloader:\n",
    "            X = X.to(device)\n",
    "            y = nn.functional.one_hot(y, num_classes=10).type(torch.float32).to(device)\n",
    "\n",
    "            y_pred = model(X)\n",
    "            loss = criterion(y_pred, y)\n",
    "\n",
    "            test_loss_sum += loss.item()\n",
    "        test_losses.append(test_loss_sum / len(test_dataloader))\n",
    "\n",
    "    torch.save(model.state_dict(), 'models/model_' + str(i) + '.pth')"
   ]
  },
  {
   "cell_type": "code",
   "execution_count": 45,
   "id": "e58bf6e3",
   "metadata": {},
   "outputs": [
    {
     "data": {
      "image/png": "[encoded data removed]",
      "text/plain": [
       "<Figure size 640x480 with 1 Axes>"
      ]
     },
     "metadata": {},
     "output_type": "display_data"
    }
   ],
   "source": [
    "import matplotlib.pyplot as plt\n",
    "\n",
    "plt.plot(train_losses, label=\"Train loss\")\n",
    "plt.plot(test_losses, label=\"Test loss\")\n",
    "plt.legend()\n",
    "plt.show()"
   ]
  },
  {
   "cell_type": "markdown",
   "id": "887f28c3",
   "metadata": {},
   "source": [
    "We can see that after 4 iterations, the model keeps trying to learn. This is not convenient because it can be learning noise for example, resulting on overfiting."
   ]
  },
  {
   "cell_type": "code",
   "execution_count": 46,
   "id": "9b50370c",
   "metadata": {},
   "outputs": [
    {
     "name": "stdout",
     "output_type": "stream",
     "text": [
      "Accuracy: 92.70%\n"
     ]
    }
   ],
   "source": [
    "# Model evaluation\n",
    "model.eval()\n",
    "correct = 0\n",
    "total = 0\n",
    "\n",
    "with torch.no_grad():\n",
    "    for X, y in test_dataloader:\n",
    "        X, y = X.to(device), y.to(device)\n",
    "        y_pred = model(X)                   # logits\n",
    "        preds = y_pred.argmax(dim=1)        # índice da classe com maior valor\n",
    "        correct += (preds == y).sum().item()\n",
    "        total += y.size(0)\n",
    "\n",
    "accuracy = 100 * correct / total\n",
    "print(f\"Accuracy: {accuracy:.2f}%\")"
   ]
  },
  {
   "cell_type": "markdown",
   "id": "f1296e0b",
   "metadata": {},
   "source": [
    "So, it is necessary to reduce the number of iterations, in this case, I am going to import the saved model of iteration 4 (model_4) to see if the overfiting is improved."
   ]
  },
  {
   "cell_type": "code",
   "execution_count": 52,
   "id": "6a4aeb9f",
   "metadata": {},
   "outputs": [
    {
     "data": {
      "text/plain": [
       "<All keys matched successfully>"
      ]
     },
     "execution_count": 52,
     "metadata": {},
     "output_type": "execute_result"
    }
   ],
   "source": [
    "# Importing weights from the model_5\n",
    "model.load_state_dict(torch.load('models/model_4.pth', weights_only=True, map_location=device))"
   ]
  },
  {
   "cell_type": "code",
   "execution_count": 53,
   "id": "448208f8",
   "metadata": {},
   "outputs": [
    {
     "name": "stdout",
     "output_type": "stream",
     "text": [
      "Accuracy: 91.89%\n"
     ]
    }
   ],
   "source": [
    "# Model evaluation\n",
    "model.eval()\n",
    "correct = 0\n",
    "total = 0\n",
    "\n",
    "with torch.no_grad():\n",
    "    for X, y in test_dataloader:\n",
    "        X, y = X.to(device), y.to(device)\n",
    "        y_pred = model(X)                   # logits\n",
    "        preds = y_pred.argmax(dim=1)        # índice da classe com maior valor\n",
    "        correct += (preds == y).sum().item()\n",
    "        total += y.size(0)\n",
    "\n",
    "accuracy = 100 * correct / total\n",
    "print(f\"Accuracy: {accuracy:.2f}%\")"
   ]
  }
 ],
 "metadata": {
  "kernelspec": {
   "display_name": ".venv",
   "language": "python",
   "name": "python3"
  },
  "language_info": {
   "codemirror_mode": {
    "name": "ipython",
    "version": 3
   },
   "file_extension": ".py",
   "mimetype": "text/x-python",
   "name": "python",
   "nbconvert_exporter": "python",
   "pygments_lexer": "ipython3",
   "version": "3.12.8"
  }
 },
 "nbformat": 4,
 "nbformat_minor": 5
}
