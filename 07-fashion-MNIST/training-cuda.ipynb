{
 "cells": [
  {
   "cell_type": "code",
   "execution_count": 9,
   "id": "59cbced4",
   "metadata": {},
   "outputs": [],
   "source": [
    "import torch\n",
    "from torch import nn\n",
    "\n",
    "import torchvision.datasets as datasets\n",
    "from torchvision.transforms import ToTensor"
   ]
  },
  {
   "cell_type": "code",
   "execution_count": 10,
   "id": "905872f0",
   "metadata": {},
   "outputs": [],
   "source": [
    "# Defining the device = cuda to run the code on gpu\n",
    "if torch.cuda.is_available():\n",
    "    device = torch.device(\"cuda\")"
   ]
  },
  {
   "cell_type": "code",
   "execution_count": 11,
   "id": "9aec5303",
   "metadata": {},
   "outputs": [],
   "source": [
    "# Download mnist fashion train and test datasets\n",
    "mnist_train = datasets.FashionMNIST(root=\"./data\", download=True, train=True, transform=ToTensor())\n",
    "mnist_test = datasets.FashionMNIST(root=\"./data\", download=False, train=True, transform=ToTensor())"
   ]
  },
  {
   "cell_type": "code",
   "execution_count": 12,
   "id": "898d32f0",
   "metadata": {},
   "outputs": [],
   "source": [
    "from torch.utils.data import DataLoader\n",
    "\n",
    "# Converting to dataloaders\n",
    "train_dataloder = DataLoader(mnist_train, batch_size=32, shuffle=True)\n",
    "test_dataloder = DataLoader(mnist_test, batch_size=32, shuffle=True)"
   ]
  },
  {
   "cell_type": "code",
   "execution_count": 13,
   "id": "f07f45d4",
   "metadata": {},
   "outputs": [],
   "source": [
    "# Defining the model\n",
    "model = nn.Sequential(\n",
    "    nn.Conv2d(1, 3, kernel_size=(3, 3), padding=1, padding_mode=\"reflect\"), # CNN 2 dimensional layer with a 3x3 filter\n",
    "    nn.MaxPool2d(kernel_size=2), # Max pooling to reduce the dimension and turn less complex the nn\n",
    "    nn.ReLU(),\n",
    "    nn.Flatten(),\n",
    "    nn.Linear(588, 100),\n",
    "    nn.ReLU(),\n",
    "    nn.Linear(100, 10)\n",
    ").to(device)\n",
    "\n",
    "# Defining the loss function\n",
    "criterion = nn.CrossEntropyLoss()\n",
    "\n",
    "# Defining the optimizer\n",
    "optimizer = torch.optim.Adam(model.parameters(), lr=0.001)"
   ]
  },
  {
   "cell_type": "code",
   "execution_count": 14,
   "id": "885d05f3",
   "metadata": {},
   "outputs": [
    {
     "name": "stdout",
     "output_type": "stream",
     "text": [
      "torch.Size([32, 1, 28, 28])\n",
      "torch.Size([32])\n",
      "torch.Size([32, 10])\n"
     ]
    }
   ],
   "source": [
    "# Reshaping the data (validation)\n",
    "for X, y in train_dataloder:\n",
    "    print(X.shape)\n",
    "    print(y.shape)\n",
    "    \n",
    "    y = nn.functional.one_hot(y, num_classes=10).type(torch.float32)\n",
    "    print(y.shape)\n",
    "    break"
   ]
  },
  {
   "cell_type": "code",
   "execution_count": 15,
   "id": "f0c26ef1",
   "metadata": {},
   "outputs": [
    {
     "name": "stdout",
     "output_type": "stream",
     "text": [
      "1043.1445444077253\n",
      "737.0386180952191\n",
      "643.1245753355324\n",
      "582.7083284184337\n",
      "529.1299956738949\n",
      "491.7301901243627\n",
      "467.76725324615836\n",
      "438.04009353742003\n",
      "418.20533907972276\n",
      "398.38306922093034\n"
     ]
    }
   ],
   "source": [
    "for i in range(10):\n",
    "    loss_sum = 0\n",
    "    for X, y in train_dataloder:\n",
    "        X = X.to(device)\n",
    "        y = nn.functional.one_hot(y, num_classes=10).type(torch.float32).to(device)\n",
    "\n",
    "        optimizer.zero_grad()\n",
    "        y_pred = model(X)\n",
    "        loss = criterion(y_pred, y)\n",
    "        loss.backward()\n",
    "        optimizer.step()\n",
    "\n",
    "        loss_sum += loss.item()\n",
    "\n",
    "    print(loss_sum)"
   ]
  },
  {
   "cell_type": "code",
   "execution_count": 16,
   "id": "fd0c7dff",
   "metadata": {},
   "outputs": [
    {
     "name": "stdout",
     "output_type": "stream",
     "text": [
      "Accuracy: 92.41 %\n"
     ]
    }
   ],
   "source": [
    "model.eval()\n",
    "with torch.no_grad():\n",
    "    accurate = 0\n",
    "    total = 0\n",
    "    for X, y in test_dataloder:\n",
    "        X = X.to(device)\n",
    "        y = y.to(device)\n",
    "\n",
    "        y_pred = nn.functional.softmax(model(X), dim=1)\n",
    "        correct_pred = (y == y_pred.max(dim=1).indices)\n",
    "\n",
    "        total += correct_pred.size(0)\n",
    "        accurate += correct_pred.type(torch.int).sum().item()\n",
    "\n",
    "    print(f\"Accuracy: {(accurate/total)*100:.2f} %\")"
   ]
  }
 ],
 "metadata": {
  "kernelspec": {
   "display_name": ".venv",
   "language": "python",
   "name": "python3"
  },
  "language_info": {
   "codemirror_mode": {
    "name": "ipython",
    "version": 3
   },
   "file_extension": ".py",
   "mimetype": "text/x-python",
   "name": "python",
   "nbconvert_exporter": "python",
   "pygments_lexer": "ipython3",
   "version": "3.12.8"
  }
 },
 "nbformat": 4,
 "nbformat_minor": 5
}
