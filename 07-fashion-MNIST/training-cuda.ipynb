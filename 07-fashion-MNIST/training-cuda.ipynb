{
 "cells": [
  {
   "cell_type": "code",
   "execution_count": 50,
   "id": "59cbced4",
   "metadata": {},
   "outputs": [],
   "source": [
    "import torch\n",
    "from torch import nn\n",
    "\n",
    "import torchvision.datasets as datasets\n",
    "from torchvision.transforms import ToTensor"
   ]
  },
  {
   "cell_type": "code",
   "execution_count": 51,
   "id": "905872f0",
   "metadata": {},
   "outputs": [],
   "source": [
    "# Defining the device = cuda to run the code on gpu\n",
    "if torch.cuda.is_available():\n",
    "    device = torch.device(\"cuda\")"
   ]
  },
  {
   "cell_type": "code",
   "execution_count": 52,
   "id": "9aec5303",
   "metadata": {},
   "outputs": [],
   "source": [
    "# Download mnist fashion train and test datasets\n",
    "mnist_train = datasets.FashionMNIST(root=\"./data\", download=True, train=True, transform=ToTensor())\n",
    "mnist_test = datasets.FashionMNIST(root=\"./data\", download=False, train=False, transform=ToTensor())"
   ]
  },
  {
   "cell_type": "code",
   "execution_count": 53,
   "id": "898d32f0",
   "metadata": {},
   "outputs": [],
   "source": [
    "from torch.utils.data import DataLoader\n",
    "\n",
    "# Converting to dataloaders\n",
    "train_dataloder = DataLoader(mnist_train, batch_size=32, shuffle=True)\n",
    "test_dataloder = DataLoader(mnist_test, batch_size=32, shuffle=True)"
   ]
  },
  {
   "cell_type": "code",
   "execution_count": 54,
   "id": "f07f45d4",
   "metadata": {},
   "outputs": [],
   "source": [
    "# Defining the model with inputs at shape(1, 28, 28)\n",
    "model = nn.Sequential(\n",
    "    nn.Sequential(\n",
    "        nn.Conv2d(1, 32, kernel_size=(3, 3), padding=1, padding_mode=\"reflect\"), # CNN 2 dimensional layer with a 3x3 filter - Shape(32, 28, 28)\n",
    "        nn.MaxPool2d(kernel_size=2), # Max pooling to reduce the dimension and turn less complex the nn - Shape(32, 14, 14)\n",
    "        nn.BatchNorm2d(32), # Normalizates data to improve accuracy\n",
    "        nn.ReLU(),\n",
    "        nn.Dropout(0.1) # Dropout random connections between neurons to improve accuracy\n",
    "    ),\n",
    "\n",
    "    nn.Sequential(\n",
    "        nn.Conv2d(32, 64, kernel_size=(3, 3), padding=1, padding_mode=\"reflect\"), # Shape(64, 14, 14)\n",
    "        nn.MaxPool2d(kernel_size=2), # Shape(64, 7, 7)\n",
    "        nn.BatchNorm2d(64),\n",
    "        nn.ReLU(),\n",
    "        nn.Dropout(0.1)\n",
    "    ),\n",
    "    \n",
    "    nn.Flatten(), # Shape(3136) = 64 * 7 * 7\n",
    "    \n",
    "    nn.Sequential(\n",
    "        nn.Linear(3136, 1000),\n",
    "        nn.BatchNorm1d(1000),\n",
    "        nn.ReLU(),\n",
    "        nn.Dropout(0.3),\n",
    "        nn.Linear(1000, 100),\n",
    "        nn.BatchNorm1d(100),\n",
    "        nn.ReLU(),\n",
    "        nn.Dropout(0.5),\n",
    "        nn.Linear(100, 10)\n",
    "    )\n",
    ").to(device)\n",
    "\n",
    "# Defining the loss function\n",
    "criterion = nn.CrossEntropyLoss()\n",
    "\n",
    "# Defining the optimizer\n",
    "optimizer = torch.optim.Adam(model.parameters(), lr=0.001)"
   ]
  },
  {
   "cell_type": "code",
   "execution_count": 55,
   "id": "885d05f3",
   "metadata": {},
   "outputs": [
    {
     "name": "stdout",
     "output_type": "stream",
     "text": [
      "torch.Size([32, 1, 28, 28])\n",
      "torch.Size([32])\n",
      "torch.Size([32, 10])\n"
     ]
    }
   ],
   "source": [
    "# Reshaping the data (validation)\n",
    "for X, y in train_dataloder:\n",
    "    print(X.shape)\n",
    "    print(y.shape)\n",
    "    \n",
    "    y = nn.functional.one_hot(y, num_classes=10).type(torch.float32)\n",
    "    print(y.shape)\n",
    "    break"
   ]
  },
  {
   "cell_type": "code",
   "execution_count": 56,
   "id": "f0c26ef1",
   "metadata": {},
   "outputs": [
    {
     "name": "stdout",
     "output_type": "stream",
     "text": [
      "800.9967646300793\n",
      "566.9247032441199\n",
      "492.1472059749067\n",
      "443.8024645783007\n",
      "403.50094435736537\n",
      "371.8289270736277\n",
      "350.2957790195942\n",
      "326.1061526173726\n",
      "303.34149074880406\n",
      "283.908728832379\n"
     ]
    }
   ],
   "source": [
    "for i in range(10):\n",
    "    loss_sum = 0\n",
    "    for X, y in train_dataloder:\n",
    "        X = X.to(device)\n",
    "        y = nn.functional.one_hot(y, num_classes=10).type(torch.float32).to(device)\n",
    "\n",
    "        optimizer.zero_grad()\n",
    "        y_pred = model(X)\n",
    "        loss = criterion(y_pred, y)\n",
    "        loss.backward()\n",
    "        optimizer.step()\n",
    "\n",
    "        loss_sum += loss.item()\n",
    "\n",
    "    print(loss_sum)"
   ]
  },
  {
   "cell_type": "code",
   "execution_count": 57,
   "id": "fd0c7dff",
   "metadata": {},
   "outputs": [
    {
     "name": "stdout",
     "output_type": "stream",
     "text": [
      "Accuracy: 92.77 %\n"
     ]
    }
   ],
   "source": [
    "model.eval()\n",
    "with torch.no_grad():\n",
    "    accurate = 0\n",
    "    total = 0\n",
    "    for X, y in test_dataloder:\n",
    "        X = X.to(device)\n",
    "        y = y.to(device)\n",
    "\n",
    "        outputs = nn.functional.softmax(model(X), dim=1) \n",
    "        correct_pred = (y == outputs.max(dim=1).indices)\n",
    "\n",
    "        total+=correct_pred.size(0)\n",
    "        accurate+=correct_pred.type(torch.int).sum().item()\n",
    "\n",
    "    print(f\"Accuracy: {(accurate/total)*100:.2f} %\")"
   ]
  }
 ],
 "metadata": {
  "kernelspec": {
   "display_name": ".venv",
   "language": "python",
   "name": "python3"
  },
  "language_info": {
   "codemirror_mode": {
    "name": "ipython",
    "version": 3
   },
   "file_extension": ".py",
   "mimetype": "text/x-python",
   "name": "python",
   "nbconvert_exporter": "python",
   "pygments_lexer": "ipython3",
   "version": "3.12.8"
  }
 },
 "nbformat": 4,
 "nbformat_minor": 5
}
