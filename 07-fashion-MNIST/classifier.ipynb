{
 "cells": [
  {
   "cell_type": "code",
   "execution_count": 35,
   "id": "d0ea0001",
   "metadata": {},
   "outputs": [],
   "source": [
    "import torch\n",
    "from torch import nn\n",
    "\n",
    "import torchvision.datasets as datasets\n",
    "from torchvision.transforms import ToTensor"
   ]
  },
  {
   "cell_type": "code",
   "execution_count": 36,
   "id": "013cd97d",
   "metadata": {},
   "outputs": [],
   "source": [
    "# Download mnist fashion train and test datasets\n",
    "mnist_train = datasets.FashionMNIST(root=\"./data\", download=True, train=True, transform=ToTensor())\n",
    "mnist_test = datasets.FashionMNIST(root=\"./data\", download=False, train=True, transform=ToTensor())"
   ]
  },
  {
   "cell_type": "code",
   "execution_count": 37,
   "id": "5e218f87",
   "metadata": {},
   "outputs": [],
   "source": [
    "from torch.utils.data import DataLoader\n",
    "\n",
    "# Converting to dataloaders\n",
    "train_dataloder = DataLoader(mnist_train, batch_size=32, shuffle=True)\n",
    "test_dataloder = DataLoader(mnist_test, batch_size=32, shuffle=True)"
   ]
  },
  {
   "cell_type": "code",
   "execution_count": 38,
   "id": "b02145e5",
   "metadata": {},
   "outputs": [],
   "source": [
    "# Defining the model\n",
    "model = nn.Sequential(\n",
    "    nn.Conv2d(1, 3, kernel_size=(3, 3), padding=1, padding_mode=\"reflect\"), # CNN 2 dimensional layer with a 3x3 filter\n",
    "    nn.MaxPool2d(kernel_size=2), # Max pooling to reduce the dimension and turn less complex the nn\n",
    "    nn.ReLU(),\n",
    "    nn.Flatten(),\n",
    "    nn.Linear(588, 100),\n",
    "    nn.ReLU(),\n",
    "    nn.Linear(100, 10)\n",
    ")\n",
    "\n",
    "# Defining the loss function\n",
    "criterion = nn.CrossEntropyLoss()\n",
    "\n",
    "# Defining the optimizer\n",
    "optimizer = torch.optim.Adam(model.parameters(), lr=0.001)"
   ]
  },
  {
   "cell_type": "code",
   "execution_count": 39,
   "id": "57365acb",
   "metadata": {},
   "outputs": [
    {
     "name": "stdout",
     "output_type": "stream",
     "text": [
      "torch.Size([32, 1, 28, 28])\n",
      "torch.Size([32])\n",
      "torch.Size([32, 10])\n"
     ]
    }
   ],
   "source": [
    "# Reshaping the data (validation)\n",
    "for X, y in train_dataloder:\n",
    "    print(X.shape)\n",
    "    print(y.shape)\n",
    "    \n",
    "    y = nn.functional.one_hot(y, num_classes=10).type(torch.float32)\n",
    "    print(y.shape)\n",
    "    break"
   ]
  },
  {
   "cell_type": "code",
   "execution_count": 40,
   "id": "2433db12",
   "metadata": {},
   "outputs": [
    {
     "name": "stdout",
     "output_type": "stream",
     "text": [
      "963.3684431016445\n",
      "660.1483805924654\n",
      "587.415435180068\n",
      "538.5746393799782\n",
      "498.1113281920552\n",
      "466.8011701218784\n",
      "441.2674172986299\n",
      "414.1109722740948\n",
      "393.24650387838483\n",
      "369.92314274422824\n"
     ]
    }
   ],
   "source": [
    "for i in range(10):\n",
    "    loss_sum = 0\n",
    "    for X, y in train_dataloder:\n",
    "        y = nn.functional.one_hot(y, num_classes=10).type(torch.float32)\n",
    "\n",
    "        optimizer.zero_grad()\n",
    "        y_pred = model(X)\n",
    "        loss = criterion(y_pred, y)\n",
    "        loss.backward()\n",
    "        optimizer.step()\n",
    "\n",
    "        loss_sum += loss.item()\n",
    "\n",
    "    print(loss_sum)"
   ]
  },
  {
   "cell_type": "code",
   "execution_count": 41,
   "id": "08471021",
   "metadata": {},
   "outputs": [
    {
     "name": "stdout",
     "output_type": "stream",
     "text": [
      "Accuracy: 93.47 %\n"
     ]
    }
   ],
   "source": [
    "model.eval()\n",
    "with torch.no_grad():\n",
    "    accurate = 0\n",
    "    total = 0\n",
    "    for X, y in test_dataloder:\n",
    "        y_pred = nn.functional.softmax(model(X), dim=1)\n",
    "        correct_pred = (y == y_pred.max(dim=1).indices)\n",
    "\n",
    "        total += correct_pred.size(0)\n",
    "        accurate += correct_pred.type(torch.int).sum().item()\n",
    "\n",
    "    print(f\"Accuracy: {(accurate/total)*100:.2f} %\")"
   ]
  }
 ],
 "metadata": {
  "kernelspec": {
   "display_name": ".venv",
   "language": "python",
   "name": "python3"
  },
  "language_info": {
   "codemirror_mode": {
    "name": "ipython",
    "version": 3
   },
   "file_extension": ".py",
   "mimetype": "text/x-python",
   "name": "python",
   "nbconvert_exporter": "python",
   "pygments_lexer": "ipython3",
   "version": "3.12.8"
  }
 },
 "nbformat": 4,
 "nbformat_minor": 5
}
