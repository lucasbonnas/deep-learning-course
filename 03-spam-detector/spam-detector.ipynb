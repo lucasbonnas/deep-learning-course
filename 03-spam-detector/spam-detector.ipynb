{
 "cells": [
  {
   "cell_type": "markdown",
   "id": "38a28a5e",
   "metadata": {},
   "source": [
    "## Spam Detector\n",
    "\n",
    "- Task: **binary classification** → spam (1) or ham (0).  \n",
    "- Input: raw text messages.  \n",
    "- Preprocessing: tokenize → convert text to numeric features.  \n",
    "- Model: classifier (baseline ML or neural net).  \n",
    "- Training: minimize binary loss (BCE).  \n",
    "- Evaluation: accuracy, precision, recall, F1.  "
   ]
  },
  {
   "cell_type": "code",
   "execution_count": 288,
   "id": "4da36361",
   "metadata": {},
   "outputs": [],
   "source": [
    "# Import libraries\n",
    "import pandas as pd\n",
    "import torch\n",
    "from torch import nn"
   ]
  },
  {
   "cell_type": "code",
   "execution_count": 289,
   "id": "f1771158",
   "metadata": {},
   "outputs": [
    {
     "data": {
      "text/html": [
       "<div>\n",
       "<style scoped>\n",
       "    .dataframe tbody tr th:only-of-type {\n",
       "        vertical-align: middle;\n",
       "    }\n",
       "\n",
       "    .dataframe tbody tr th {\n",
       "        vertical-align: top;\n",
       "    }\n",
       "\n",
       "    .dataframe thead th {\n",
       "        text-align: right;\n",
       "    }\n",
       "</style>\n",
       "<table border=\"1\" class=\"dataframe\">\n",
       "  <thead>\n",
       "    <tr style=\"text-align: right;\">\n",
       "      <th></th>\n",
       "      <th>type</th>\n",
       "      <th>message</th>\n",
       "    </tr>\n",
       "  </thead>\n",
       "  <tbody>\n",
       "    <tr>\n",
       "      <th>0</th>\n",
       "      <td>ham</td>\n",
       "      <td>Go until jurong point, crazy.. Available only ...</td>\n",
       "    </tr>\n",
       "    <tr>\n",
       "      <th>1</th>\n",
       "      <td>ham</td>\n",
       "      <td>Ok lar... Joking wif u oni...</td>\n",
       "    </tr>\n",
       "    <tr>\n",
       "      <th>2</th>\n",
       "      <td>spam</td>\n",
       "      <td>Free entry in 2 a wkly comp to win FA Cup fina...</td>\n",
       "    </tr>\n",
       "    <tr>\n",
       "      <th>3</th>\n",
       "      <td>ham</td>\n",
       "      <td>U dun say so early hor... U c already then say...</td>\n",
       "    </tr>\n",
       "    <tr>\n",
       "      <th>4</th>\n",
       "      <td>ham</td>\n",
       "      <td>Nah I don't think he goes to usf, he lives aro...</td>\n",
       "    </tr>\n",
       "    <tr>\n",
       "      <th>...</th>\n",
       "      <td>...</td>\n",
       "      <td>...</td>\n",
       "    </tr>\n",
       "    <tr>\n",
       "      <th>5567</th>\n",
       "      <td>spam</td>\n",
       "      <td>This is the 2nd time we have tried 2 contact u...</td>\n",
       "    </tr>\n",
       "    <tr>\n",
       "      <th>5568</th>\n",
       "      <td>ham</td>\n",
       "      <td>Will ü b going to esplanade fr home?</td>\n",
       "    </tr>\n",
       "    <tr>\n",
       "      <th>5569</th>\n",
       "      <td>ham</td>\n",
       "      <td>Pity, * was in mood for that. So...any other s...</td>\n",
       "    </tr>\n",
       "    <tr>\n",
       "      <th>5570</th>\n",
       "      <td>ham</td>\n",
       "      <td>The guy did some bitching but I acted like i'd...</td>\n",
       "    </tr>\n",
       "    <tr>\n",
       "      <th>5571</th>\n",
       "      <td>ham</td>\n",
       "      <td>Rofl. Its true to its name</td>\n",
       "    </tr>\n",
       "  </tbody>\n",
       "</table>\n",
       "<p>5572 rows × 2 columns</p>\n",
       "</div>"
      ],
      "text/plain": [
       "      type                                            message\n",
       "0      ham  Go until jurong point, crazy.. Available only ...\n",
       "1      ham                      Ok lar... Joking wif u oni...\n",
       "2     spam  Free entry in 2 a wkly comp to win FA Cup fina...\n",
       "3      ham  U dun say so early hor... U c already then say...\n",
       "4      ham  Nah I don't think he goes to usf, he lives aro...\n",
       "...    ...                                                ...\n",
       "5567  spam  This is the 2nd time we have tried 2 contact u...\n",
       "5568   ham               Will ü b going to esplanade fr home?\n",
       "5569   ham  Pity, * was in mood for that. So...any other s...\n",
       "5570   ham  The guy did some bitching but I acted like i'd...\n",
       "5571   ham                         Rofl. Its true to its name\n",
       "\n",
       "[5572 rows x 2 columns]"
      ]
     },
     "execution_count": 289,
     "metadata": {},
     "output_type": "execute_result"
    }
   ],
   "source": [
    "# Read the df\n",
    "df = pd.read_csv(\"./data/SMSSpamCollection\", sep=\"\\t\", names=[\"type\", \"message\"])\n",
    "\n",
    "df"
   ]
  },
  {
   "cell_type": "code",
   "execution_count": 290,
   "id": "6e847b0f",
   "metadata": {},
   "outputs": [
    {
     "data": {
      "text/html": [
       "<div>\n",
       "<style scoped>\n",
       "    .dataframe tbody tr th:only-of-type {\n",
       "        vertical-align: middle;\n",
       "    }\n",
       "\n",
       "    .dataframe tbody tr th {\n",
       "        vertical-align: top;\n",
       "    }\n",
       "\n",
       "    .dataframe thead th {\n",
       "        text-align: right;\n",
       "    }\n",
       "</style>\n",
       "<table border=\"1\" class=\"dataframe\">\n",
       "  <thead>\n",
       "    <tr style=\"text-align: right;\">\n",
       "      <th></th>\n",
       "      <th>message</th>\n",
       "      <th>spam</th>\n",
       "    </tr>\n",
       "  </thead>\n",
       "  <tbody>\n",
       "    <tr>\n",
       "      <th>0</th>\n",
       "      <td>Go until jurong point, crazy.. Available only ...</td>\n",
       "      <td>0</td>\n",
       "    </tr>\n",
       "    <tr>\n",
       "      <th>1</th>\n",
       "      <td>Ok lar... Joking wif u oni...</td>\n",
       "      <td>0</td>\n",
       "    </tr>\n",
       "    <tr>\n",
       "      <th>2</th>\n",
       "      <td>Free entry in 2 a wkly comp to win FA Cup fina...</td>\n",
       "      <td>1</td>\n",
       "    </tr>\n",
       "    <tr>\n",
       "      <th>3</th>\n",
       "      <td>U dun say so early hor... U c already then say...</td>\n",
       "      <td>0</td>\n",
       "    </tr>\n",
       "    <tr>\n",
       "      <th>4</th>\n",
       "      <td>Nah I don't think he goes to usf, he lives aro...</td>\n",
       "      <td>0</td>\n",
       "    </tr>\n",
       "    <tr>\n",
       "      <th>...</th>\n",
       "      <td>...</td>\n",
       "      <td>...</td>\n",
       "    </tr>\n",
       "    <tr>\n",
       "      <th>5567</th>\n",
       "      <td>This is the 2nd time we have tried 2 contact u...</td>\n",
       "      <td>1</td>\n",
       "    </tr>\n",
       "    <tr>\n",
       "      <th>5568</th>\n",
       "      <td>Will ü b going to esplanade fr home?</td>\n",
       "      <td>0</td>\n",
       "    </tr>\n",
       "    <tr>\n",
       "      <th>5569</th>\n",
       "      <td>Pity, * was in mood for that. So...any other s...</td>\n",
       "      <td>0</td>\n",
       "    </tr>\n",
       "    <tr>\n",
       "      <th>5570</th>\n",
       "      <td>The guy did some bitching but I acted like i'd...</td>\n",
       "      <td>0</td>\n",
       "    </tr>\n",
       "    <tr>\n",
       "      <th>5571</th>\n",
       "      <td>Rofl. Its true to its name</td>\n",
       "      <td>0</td>\n",
       "    </tr>\n",
       "  </tbody>\n",
       "</table>\n",
       "<p>5572 rows × 2 columns</p>\n",
       "</div>"
      ],
      "text/plain": [
       "                                                message  spam\n",
       "0     Go until jurong point, crazy.. Available only ...     0\n",
       "1                         Ok lar... Joking wif u oni...     0\n",
       "2     Free entry in 2 a wkly comp to win FA Cup fina...     1\n",
       "3     U dun say so early hor... U c already then say...     0\n",
       "4     Nah I don't think he goes to usf, he lives aro...     0\n",
       "...                                                 ...   ...\n",
       "5567  This is the 2nd time we have tried 2 contact u...     1\n",
       "5568               Will ü b going to esplanade fr home?     0\n",
       "5569  Pity, * was in mood for that. So...any other s...     0\n",
       "5570  The guy did some bitching but I acted like i'd...     0\n",
       "5571                         Rofl. Its true to its name     0\n",
       "\n",
       "[5572 rows x 2 columns]"
      ]
     },
     "execution_count": 290,
     "metadata": {},
     "output_type": "execute_result"
    }
   ],
   "source": [
    "# Creating column spam\n",
    "df[\"spam\"] = (df[\"type\"] == 'spam').astype(int)\n",
    "\n",
    "# Deleting type column\n",
    "df.drop(columns=\"type\", inplace=True)\n",
    "\n",
    "df"
   ]
  },
  {
   "cell_type": "code",
   "execution_count": 291,
   "id": "ed2144fe",
   "metadata": {},
   "outputs": [],
   "source": [
    "# Creating df for training\n",
    "df_train = df.sample(frac=0.8, random_state=42)\n",
    "\n",
    "# Creating df for testing\n",
    "df_test = df.drop(index=df_train.index)"
   ]
  },
  {
   "cell_type": "code",
   "execution_count": 292,
   "id": "d84b3cf1",
   "metadata": {},
   "outputs": [],
   "source": [
    "from sklearn.feature_extraction.text import CountVectorizer\n",
    "\n",
    "# Define vectorizer\n",
    "vectorizer = CountVectorizer(max_features=1000) # Analyzes maximum 1000 values"
   ]
  },
  {
   "cell_type": "code",
   "execution_count": 293,
   "id": "133af8f4",
   "metadata": {},
   "outputs": [
    {
     "data": {
      "text/plain": [
       "tensor([[0., 0., 0.,  ..., 0., 0., 0.],\n",
       "        [0., 0., 0.,  ..., 0., 0., 0.],\n",
       "        [0., 0., 0.,  ..., 0., 0., 0.],\n",
       "        ...,\n",
       "        [0., 0., 0.,  ..., 0., 0., 0.],\n",
       "        [0., 0., 0.,  ..., 0., 0., 0.],\n",
       "        [0., 0., 0.,  ..., 0., 0., 0.]])"
      ]
     },
     "execution_count": 293,
     "metadata": {},
     "output_type": "execute_result"
    }
   ],
   "source": [
    "# Define input\n",
    "messages_train = vectorizer.fit_transform(df_train[\"message\"]).todense() # Transform messagens into dense matrix\n",
    "messages_test = vectorizer.transform(df_test[\"message\"]).todense()\n",
    "\n",
    "# Transform input into tensor\n",
    "X_train = torch.tensor(messages_train, dtype=torch.float32)\n",
    "X_test = torch.tensor(messages_test, dtype=torch.float32)\n",
    "\n",
    "X_train"
   ]
  },
  {
   "cell_type": "code",
   "execution_count": 294,
   "id": "c8b00e6b",
   "metadata": {},
   "outputs": [
    {
     "data": {
      "text/plain": [
       "tensor([[0.],\n",
       "        [0.],\n",
       "        [0.],\n",
       "        ...,\n",
       "        [0.],\n",
       "        [0.],\n",
       "        [0.]])"
      ]
     },
     "execution_count": 294,
     "metadata": {},
     "output_type": "execute_result"
    }
   ],
   "source": [
    "# Define output\n",
    "y_train = torch.tensor(df_train[\"spam\"].values, dtype=torch.float32).reshape(-1, 1)\n",
    "y_test = torch.tensor(df_test[\"spam\"].values, dtype=torch.float32).reshape(-1, 1)\n",
    "\n",
    "y_train"
   ]
  },
  {
   "cell_type": "code",
   "execution_count": 295,
   "id": "06045d9c",
   "metadata": {},
   "outputs": [],
   "source": [
    "# Define model\n",
    "model = nn.Linear(1000, 1) # 1000 inputs (max_features) and 1 output(spam or !spam)\n",
    "\n",
    "# Define loss function\n",
    "criterion = nn.BCEWithLogitsLoss() # Loss function that applies sigmoid internally\n",
    "\n",
    "# Define optimizer\n",
    "optimizer = torch.optim.SGD(model.parameters(), lr=0.02)"
   ]
  },
  {
   "cell_type": "code",
   "execution_count": null,
   "id": "0d183844",
   "metadata": {},
   "outputs": [
    {
     "name": "stdout",
     "output_type": "stream",
     "text": [
      "Loss: 0.6755606532096863\n",
      "Loss: 0.2943618893623352\n",
      "Loss: 0.21991458535194397\n",
      "Loss: 0.18235984444618225\n",
      "Loss: 0.1594766527414322\n",
      "Loss: 0.1438889354467392\n",
      "Loss: 0.13247667253017426\n",
      "Loss: 0.12368971854448318\n",
      "Loss: 0.1166682243347168\n",
      "Loss: 0.11089546233415604\n",
      "Loss: 0.10604146867990494\n",
      "Loss: 0.10188519209623337\n",
      "Loss: 0.0982726663351059\n",
      "Loss: 0.09509316831827164\n",
      "Loss: 0.09226488322019577\n",
      "Loss: 0.08972594141960144\n",
      "Loss: 0.08742865920066833\n",
      "Loss: 0.0853356122970581\n",
      "Loss: 0.08341697603464127\n",
      "Loss: 0.08164870738983154\n"
     ]
    }
   ],
   "source": [
    "# Training loop\n",
    "epochs = 10000\n",
    "\n",
    "for epoch in range(epochs):\n",
    "    optimizer.zero_grad()             # Resetting the gradient\n",
    "    y_pred = model(X_train)           # Calculating the model prediction\n",
    "    loss = criterion(y_pred, y_train) # Calculating the error\n",
    "    loss.backward()                   # Calculates the gradients of the parameters with respect to the loss\n",
    "    optimizer.step()                  # Update the model weights using the calculated gradients\n",
    "\n",
    "    if epoch % 500 == 0:\n",
    "        print(f\"Loss: {loss.item()}\") # Print loss"
   ]
  },
  {
   "cell_type": "markdown",
   "id": "e6b9bd7f",
   "metadata": {},
   "source": [
    "## Evaluation in Binary Classification\n",
    "\n",
    "- **Accuracy:** % of total hits.\n",
    "- **Sensitivity/Recall:** Among the true positives, how many I got right.\n",
    "- **Specificity:** Among the true negatives, how many I got right.\n",
    "- **Precision:** Among those I classified as positive, how many were actually positive."
   ]
  },
  {
   "cell_type": "code",
   "execution_count": 297,
   "id": "54790190",
   "metadata": {},
   "outputs": [],
   "source": [
    "# Model evaluation\n",
    "def evaluate_model(X, y):\n",
    "    model.eval()\n",
    "    with torch.no_grad():\n",
    "        y_pred = nn.functional.sigmoid(model(X)) > 0.5\n",
    "        \n",
    "        # Calculate accuracy\n",
    "        accuracy = (y_pred == y).type(torch.float32).mean()\n",
    "        print(f\"Accuracy: {accuracy * 100:.2f} %\")\n",
    "\n",
    "        # Calculate sensivity\n",
    "        sensivity = (y_pred[y == 1] == y[y == 1]).type(torch.float32).mean()\n",
    "        print(f\"Sensivity: {sensivity * 100:.2f} %\")\n",
    "\n",
    "        # Calculate specifity\n",
    "        specifity = (y_pred[y == 0] == y[y == 0]).type(torch.float32).mean()\n",
    "        print(f\"Specifity: {specifity * 100:.2f} %\")\n",
    "\n",
    "        # Calculate precision\n",
    "        precision = (y_pred[y_pred == 1] == y[y_pred == 1]).type(torch.float32).mean()\n",
    "        print(f\"Precision: {precision * 100:.2f} %\")"
   ]
  },
  {
   "cell_type": "code",
   "execution_count": 298,
   "id": "f38c97ea",
   "metadata": {},
   "outputs": [
    {
     "name": "stdout",
     "output_type": "stream",
     "text": [
      "Accuracy: 98.03 %\n",
      "Sensivity: 86.68 %\n",
      "Specifity: 99.77 %\n",
      "Precision: 98.28 %\n"
     ]
    }
   ],
   "source": [
    "# Evalutation for train df\n",
    "evaluate_model(X_train, y_train)"
   ]
  },
  {
   "cell_type": "code",
   "execution_count": 299,
   "id": "cfd37288",
   "metadata": {},
   "outputs": [
    {
     "name": "stdout",
     "output_type": "stream",
     "text": [
      "Accuracy: 96.68 %\n",
      "Sensivity: 78.57 %\n",
      "Specifity: 99.58 %\n",
      "Precision: 96.80 %\n"
     ]
    }
   ],
   "source": [
    "# Evalutation for test df\n",
    "evaluate_model(X_test, y_test)"
   ]
  }
 ],
 "metadata": {
  "kernelspec": {
   "display_name": ".venv",
   "language": "python",
   "name": "python3"
  },
  "language_info": {
   "codemirror_mode": {
    "name": "ipython",
    "version": 3
   },
   "file_extension": ".py",
   "mimetype": "text/x-python",
   "name": "python",
   "nbconvert_exporter": "python",
   "pygments_lexer": "ipython3",
   "version": "3.12.8"
  }
 },
 "nbformat": 4,
 "nbformat_minor": 5
}
