{
 "cells": [
  {
   "cell_type": "code",
   "execution_count": 31,
   "id": "e812c4c9",
   "metadata": {},
   "outputs": [],
   "source": [
    "import torch\n",
    "from torch import nn\n",
    "import numpy as np\n",
    "\n",
    "import torchvision.datasets as datasets\n",
    "from torchvision.transforms import ToTensor"
   ]
  },
  {
   "cell_type": "code",
   "execution_count": 32,
   "id": "58e4c9ff",
   "metadata": {},
   "outputs": [],
   "source": [
    "# Downloading the train MNIST dataset\n",
    "mnist_train = datasets.MNIST(root='./data', # Defining the path\n",
    "                             download=True, # Downloading the dataset\n",
    "                             train=True,  # Defining train\n",
    "                             transform=ToTensor() # Transforming data into tensors\n",
    "                             )\n",
    "\n",
    "# Downloading the test MNIST dataset\n",
    "mnist_test = datasets.MNIST(root='./data', \n",
    "                            download=True, \n",
    "                            train=False,\n",
    "                            transform=ToTensor()\n",
    "                             )"
   ]
  },
  {
   "cell_type": "code",
   "execution_count": 33,
   "id": "400a4a4d",
   "metadata": {},
   "outputs": [],
   "source": [
    "from torch.utils.data import DataLoader\n",
    "\n",
    "train_dataloader = DataLoader(mnist_train, batch_size=32, shuffle=True)\n",
    "test_dataloader = DataLoader(mnist_test, batch_size=32, shuffle=True)"
   ]
  },
  {
   "cell_type": "code",
   "execution_count": 34,
   "id": "a830b1c3",
   "metadata": {},
   "outputs": [],
   "source": [
    "model = nn.Sequential(\n",
    "    nn.Linear(784, 100),\n",
    "    nn.ReLU(),\n",
    "    nn.Linear(100, 10)\n",
    ")\n",
    "\n",
    "criterion = nn.CrossEntropyLoss()\n",
    "\n",
    "optimizer = torch.optim.Adam(model.parameters(), lr=0.001)"
   ]
  },
  {
   "cell_type": "code",
   "execution_count": null,
   "id": "c49699a4",
   "metadata": {},
   "outputs": [
    {
     "name": "stdout",
     "output_type": "stream",
     "text": [
      "571.0778968911618\n",
      "254.76616612635553\n",
      "177.13995666895062\n",
      "136.30453493562527\n",
      "106.59862545889337\n",
      "85.42660710081691\n",
      "71.17847316083498\n",
      "57.68613145544077\n",
      "48.7996904116153\n",
      "40.510199388707406\n"
     ]
    }
   ],
   "source": [
    "for i in range(10):\n",
    "    loss_sum = 0\n",
    "    for X, y in train_dataloader:\n",
    "        X = X.reshape(-1, 784)\n",
    "        y = nn.functional.one_hot(y, num_classes=10).type(torch.float32)\n",
    "\n",
    "        optimizer.zero_grad()\n",
    "        y_pred = model(X)\n",
    "        loss = criterion(y_pred, y)\n",
    "        loss.backward()\n",
    "        optimizer.step()\n",
    "\n",
    "        loss_sum += loss.item()\n",
    "\n",
    "    print(loss_sum)"
   ]
  },
  {
   "cell_type": "code",
   "execution_count": 37,
   "id": "2d8e7e15",
   "metadata": {},
   "outputs": [
    {
     "name": "stdout",
     "output_type": "stream",
     "text": [
      "Accuracy: 97.74 %\n"
     ]
    }
   ],
   "source": [
    "model.eval()\n",
    "with torch.no_grad():\n",
    "    accurate = 0\n",
    "    total = 0\n",
    "    for X, y in test_dataloader:\n",
    "        X = X.reshape(-1, 784)\n",
    "\n",
    "        y_pred = nn.functional.softmax(model(X), dim=1)\n",
    "        correct_pred = (y == y_pred.max(dim=1).indices)\n",
    "\n",
    "        total += correct_pred.size(0)\n",
    "        accurate += correct_pred.type(torch.int).sum().item()\n",
    "\n",
    "    print(f\"Accuracy: {(accurate/total)*100:.2f} %\")"
   ]
  }
 ],
 "metadata": {
  "kernelspec": {
   "display_name": ".venv",
   "language": "python",
   "name": "python3"
  },
  "language_info": {
   "codemirror_mode": {
    "name": "ipython",
    "version": 3
   },
   "file_extension": ".py",
   "mimetype": "text/x-python",
   "name": "python",
   "nbconvert_exporter": "python",
   "pygments_lexer": "ipython3",
   "version": "3.12.8"
  }
 },
 "nbformat": 4,
 "nbformat_minor": 5
}
