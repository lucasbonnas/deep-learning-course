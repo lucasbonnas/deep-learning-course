{
 "cells": [
  {
   "cell_type": "markdown",
   "id": "0b121f06",
   "metadata": {},
   "source": [
    "## Temperature Converter\n",
    "\n",
    "- This notebook provides an introductory Python example to convert temperatures between **Celsius** to **Fahrenheit**.\n",
    "- The goal is to practice basic programming concepts and notebook organization as a starting point for the *Deep Learning* course.  "
   ]
  },
  {
   "cell_type": "code",
   "execution_count": 209,
   "id": "1a6f2f48",
   "metadata": {},
   "outputs": [],
   "source": [
    "# Importing libraries\n",
    "import torch\n",
    "from torch import nn"
   ]
  },
  {
   "cell_type": "markdown",
   "id": "ffa84735",
   "metadata": {},
   "source": [
    "### Inputs and Outputs as Tensors\n",
    "\n",
    "- Inputs (**X**) and outputs (**y**) must be defined as **tensors**.\n",
    "- Tensors = multidimensional arrays, optimized for **CPU/GPU**.  \n",
    "- Why tensors?  \n",
    "  - Fast numerical computation  \n",
    "  - Required by PyTorch layers and losses  \n",
    "  - Enable automatic differentiation (backpropagation) "
   ]
  },
  {
   "cell_type": "code",
   "execution_count": 210,
   "id": "c404fbe4",
   "metadata": {},
   "outputs": [
    {
     "name": "stdout",
     "output_type": "stream",
     "text": [
      "tensor([[ 32.],\n",
      "        [ 68.],\n",
      "        [122.],\n",
      "        [212.]])\n"
     ]
    }
   ],
   "source": [
    "# Define input (Fahrenheit)\n",
    "X = torch.tensor([\n",
    "    [32],\n",
    "    [68],\n",
    "    [122],\n",
    "    [212]\n",
    "], dtype=torch.float32)\n",
    "\n",
    "print(X)"
   ]
  },
  {
   "cell_type": "code",
   "execution_count": 211,
   "id": "786ec1ed",
   "metadata": {},
   "outputs": [
    {
     "name": "stdout",
     "output_type": "stream",
     "text": [
      "tensor([[  0.],\n",
      "        [ 20.],\n",
      "        [ 50.],\n",
      "        [100.]])\n"
     ]
    }
   ],
   "source": [
    "# Define output (Celsius)\n",
    "y = torch.tensor([\n",
    "    [0],\n",
    "    [20],\n",
    "    [50],\n",
    "    [100]\n",
    "], dtype=torch.float32)\n",
    "\n",
    "print(y)"
   ]
  },
  {
   "cell_type": "markdown",
   "id": "ee486839",
   "metadata": {},
   "source": [
    "### Data Normalization\n",
    "\n",
    "- Keeps values on a similar scale → stable training.  \n",
    "- Prevents exploding loss (`NaN`).  \n",
    "- Methods:  \n",
    "  - Z-score → mean 0, std 1.  \n",
    "  - Min-Max → range [0, 1].  \n",
    "- Normalize inputs and targets, then **denormalize** predictions. "
   ]
  },
  {
   "cell_type": "code",
   "execution_count": 212,
   "id": "e8201b60",
   "metadata": {},
   "outputs": [],
   "source": [
    "# Normalizing input\n",
    "X_mean = X.mean()\n",
    "X_std = X.std()\n",
    "\n",
    "X = (X - X_mean) / X_std\n",
    "\n",
    "# Normalizing output\n",
    "y_mean = y.mean()\n",
    "y_std = y.std()\n",
    "\n",
    "y = (y - y_mean) / y_std"
   ]
  },
  {
   "cell_type": "markdown",
   "id": "034e6460",
   "metadata": {},
   "source": [
    "### Creating the Model\n",
    "\n",
    "- Define a **linear model** with **one neuron**.  \n",
    "- Formula: y = w * X + b\n",
    "- Learns:  \n",
    "  - **w** → weight  \n",
    "  - **b** → bias  \n",
    "- Simplest neural network, baseline before deeper models.  "
   ]
  },
  {
   "cell_type": "code",
   "execution_count": 213,
   "id": "ca67406e",
   "metadata": {},
   "outputs": [],
   "source": [
    "# Define model\n",
    "model = nn.Linear(1, 1) # 1 input and 1 output\n",
    "\n",
    "# Define criterion (loss function)\n",
    "criterion = nn.MSELoss()\n",
    "\n",
    "# Define optimizer (for calculate gradient)\n",
    "optimizer = torch.optim.SGD(model.parameters(), lr=0.001)"
   ]
  },
  {
   "cell_type": "markdown",
   "id": "64037971",
   "metadata": {},
   "source": [
    "### Training Loop\n",
    "\n",
    "- Core cycle of model learning.  \n",
    "- Each epoch:  \n",
    "  1. **Forward pass** → compute predictions.  \n",
    "  2. **Loss** → measure error vs. targets.  \n",
    "  3. **Backward pass** → calculate gradients.  \n",
    "  4. **Optimizer step** → update weights/bias.  \n",
    "- Repeat until the model converges.  "
   ]
  },
  {
   "cell_type": "code",
   "execution_count": 214,
   "id": "26499634",
   "metadata": {},
   "outputs": [
    {
     "name": "stdout",
     "output_type": "stream",
     "text": [
      "Loss: 0.12285402417182922\n",
      "Loss: 0.05566735565662384\n",
      "Loss: 0.02542351931333542\n",
      "Loss: 0.011687468737363815\n",
      "Loss: 0.005401880946010351\n",
      "Loss: 0.0025076931342482567\n",
      "Loss: 0.0011682435870170593\n",
      "Loss: 0.0005457982188090682\n",
      "Loss: 0.0002555648679845035\n",
      "Loss: 0.00011987314792349935\n"
     ]
    }
   ],
   "source": [
    "# Training loop\n",
    "\n",
    "epochs = 2500 # Number of iterations\n",
    "losses = [] # List to store loss values\n",
    "\n",
    "for epoch in range(epochs):\n",
    "    optimizer.zero_grad()             # Resetting the gradient\n",
    "    y_pred = model(X)                 # Calculating the model prediction\n",
    "    loss = criterion(y_pred, y)       # Calculating the error\n",
    "    loss.backward()                   # Calculates the gradients of the parameters with respect to the loss\n",
    "    optimizer.step()                  # Update the model weights using the calculated gradients\n",
    "\n",
    "    losses.append(loss.item())        # Storing loss values \n",
    "\n",
    "    if epoch % 250 == 0:\n",
    "        print(f\"Loss: {loss.item()}\") # Print loss "
   ]
  },
  {
   "cell_type": "code",
   "execution_count": 215,
   "id": "ea3c0273",
   "metadata": {},
   "outputs": [
    {
     "data": {
      "image/png": "[encoded data removed]",
      "text/plain": [
       "<Figure size 640x480 with 1 Axes>"
      ]
     },
     "metadata": {},
     "output_type": "display_data"
    }
   ],
   "source": [
    "import matplotlib.pyplot as plt\n",
    "\n",
    "plt.plot(losses)\n",
    "plt.xlabel(\"Epoch\")\n",
    "plt.ylabel(\"Loss\")\n",
    "plt.show()"
   ]
  },
  {
   "cell_type": "markdown",
   "id": "e78dab18",
   "metadata": {},
   "source": [
    "### Model Evaluation\n",
    "\n",
    "- Switch to eval mode → `model.eval()`  \n",
    "- Disable gradients → `with torch.no_grad()`  \n",
    "- Run inputs → get predictions  \n",
    "- Compare predictions vs. targets (accuracy, loss, error)  \n",
    "- Checks if the model generalizes, not just memorizes  "
   ]
  },
  {
   "cell_type": "code",
   "execution_count": 216,
   "id": "84f834a9",
   "metadata": {},
   "outputs": [
    {
     "name": "stdout",
     "output_type": "stream",
     "text": [
      "MAE: 0.17091\n"
     ]
    }
   ],
   "source": [
    "# Defining X input to evaluation\n",
    "X_test = torch.tensor([\n",
    "    [46.4],\n",
    "    [80]\n",
    "], dtype=torch.float32)\n",
    "\n",
    "# Defining y output to evaluation\n",
    "y_test = torch.tensor([\n",
    "    [8],\n",
    "    [26.67]\n",
    "], dtype=torch.float32)\n",
    "\n",
    "model.eval()\n",
    "with torch.no_grad():\n",
    "    y_pred = model((X_test - X_mean) / X_std) # Apply model on normalizated X\n",
    "    y_pred = y_pred * y_std + y_mean # Denormalize prediction\n",
    "    \n",
    "    mae = torch.mean(torch.abs(y_pred - y_test)) # Mean absolute error\n",
    "    print(f\"MAE: {mae:.5f}\")"
   ]
  }
 ],
 "metadata": {
  "kernelspec": {
   "display_name": ".venv",
   "language": "python",
   "name": "python3"
  },
  "language_info": {
   "codemirror_mode": {
    "name": "ipython",
    "version": 3
   },
   "file_extension": ".py",
   "mimetype": "text/x-python",
   "name": "python",
   "nbconvert_exporter": "python",
   "pygments_lexer": "ipython3",
   "version": "3.12.8"
  }
 },
 "nbformat": 4,
 "nbformat_minor": 5
}
